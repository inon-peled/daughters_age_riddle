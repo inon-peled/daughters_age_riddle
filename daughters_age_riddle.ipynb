{
 "cells": [
  {
   "cell_type": "markdown",
   "metadata": {},
   "source": [
    "# Riddle\n",
    "What are the ages of k daughters if:\n",
    "* k is given.\n",
    "* Multiple of ages is given to the reader.\n",
    "* Sum of ages is defined but not given to the reader.\n",
    "* Some predicate holds for their ages.\n",
    "\n",
    "Example: k = 3 daughters, age multiple is 72, sum of ages equals some house number that you do not see, exactly one daughter is the eldest."
   ]
  },
  {
   "cell_type": "code",
   "execution_count": 1,
   "metadata": {},
   "outputs": [],
   "source": [
    "import more_itertools as mrit\n",
    "\n",
    "from math import prod\n",
    "from collections import defaultdict\n",
    "from itertools import chain"
   ]
  },
  {
   "cell_type": "code",
   "execution_count": 2,
   "metadata": {},
   "outputs": [],
   "source": [
    "def _is_prime(n):\n",
    "    return n == 2 if (n < 3 or n % 2 == 0) else \\\n",
    "        not any(n % i == 0 for i in range(3, int(n**0.5 + 2), 2))\n",
    "\n",
    "# is_prime(101)"
   ]
  },
  {
   "cell_type": "code",
   "execution_count": 3,
   "metadata": {},
   "outputs": [],
   "source": [
    "def _factorize(n):\n",
    "    return (k for k in range(2, n + 1) if _is_prime(k) and n % k == 0)\n",
    "\n",
    "# tuple(factorize(35))"
   ]
  },
  {
   "cell_type": "code",
   "execution_count": 4,
   "metadata": {},
   "outputs": [],
   "source": [
    "def _count_multiples(n, k):\n",
    "    return max(i for i in range(1, n) if n % (k ** i) == 0)\n",
    "\n",
    "# count_multiples(72, 2)"
   ]
  },
  {
   "cell_type": "code",
   "execution_count": 5,
   "metadata": {},
   "outputs": [],
   "source": [
    "def _mul_factors(n):\n",
    "    return chain(*([[1]] + [[k] * _count_multiples(n, k) for k in _factorize(n)]))\n",
    "\n",
    "# tuple(mul_factors(72))"
   ]
  },
  {
   "cell_type": "code",
   "execution_count": 6,
   "metadata": {},
   "outputs": [],
   "source": [
    "def solve(num_daughters, age_mul, age_predicate):\n",
    "    options = defaultdict(set)\n",
    "    for partition in mrit.set_partitions(_mul_factors(age_mul), num_daughters):\n",
    "        options[sum(map(prod, partition))].add(tuple(sorted(map(prod, partition))))\n",
    "    relevant_options = {key: options[key] for key in options \\\n",
    "                        if len(options[key]) > 1 and any(map(age_predicate, options[key]))}\n",
    "    return {key: set(filter(age_predicate, relevant_options[key])) for key in relevant_options}"
   ]
  },
  {
   "cell_type": "code",
   "execution_count": 7,
   "metadata": {},
   "outputs": [
    {
     "data": {
      "text/plain": [
       "{14: {(3, 3, 8)}}"
      ]
     },
     "execution_count": 7,
     "metadata": {},
     "output_type": "execute_result"
    }
   ],
   "source": [
    "# Original riddle\n",
    "solve(num_daughters=3, age_mul=72, age_predicate=lambda ages: ages.count(max(ages)) == 1)"
   ]
  },
  {
   "cell_type": "code",
   "execution_count": 8,
   "metadata": {},
   "outputs": [
    {
     "data": {
      "text/plain": [
       "{34: {(2, 14, 18)}}"
      ]
     },
     "execution_count": 8,
     "metadata": {},
     "output_type": "execute_result"
    }
   ],
   "source": [
    "# Example of different riddle\n",
    "solve(num_daughters=3, \n",
    "      age_mul=72 * 7, \n",
    "      age_predicate=lambda ages: all(map(lambda age: age % 2 == 0, ages)))"
   ]
  },
  {
   "cell_type": "code",
   "execution_count": 9,
   "metadata": {},
   "outputs": [
    {
     "data": {
      "text/plain": [
       "{30: {(4, 4, 4, 18)}}"
      ]
     },
     "execution_count": 9,
     "metadata": {},
     "output_type": "execute_result"
    }
   ],
   "source": [
    "# Example of different riddle\n",
    "solve(num_daughters=4, \n",
    "      age_mul=72 * 16, \n",
    "      age_predicate=lambda ages: all(map(lambda age: age % 2 == 0, ages)) and min(ages) > 2 and ages.count(max(ages)) == 1)"
   ]
  }
 ],
 "metadata": {
  "kernelspec": {
   "display_name": "Python 3",
   "language": "python",
   "name": "python3"
  },
  "language_info": {
   "codemirror_mode": {
    "name": "ipython",
    "version": 3
   },
   "file_extension": ".py",
   "mimetype": "text/x-python",
   "name": "python",
   "nbconvert_exporter": "python",
   "pygments_lexer": "ipython3",
   "version": "3.8.5"
  }
 },
 "nbformat": 4,
 "nbformat_minor": 4
}
